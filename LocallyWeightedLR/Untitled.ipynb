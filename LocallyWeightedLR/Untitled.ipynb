{
 "cells": [
  {
   "cell_type": "code",
   "execution_count": 3,
   "id": "e03e0a83",
   "metadata": {},
   "outputs": [
    {
     "ename": "ModuleNotFoundError",
     "evalue": "No module named 'pandas'",
     "output_type": "error",
     "traceback": [
      "\u001b[0;31m---------------------------------------------------------------------------\u001b[0m",
      "\u001b[0;31mModuleNotFoundError\u001b[0m                       Traceback (most recent call last)",
      "Cell \u001b[0;32mIn[3], line 2\u001b[0m\n\u001b[1;32m      1\u001b[0m \u001b[38;5;66;03m#locally weighted linear regression\u001b[39;00m\n\u001b[0;32m----> 2\u001b[0m \u001b[38;5;28;01mimport\u001b[39;00m \u001b[38;5;21;01mpandas\u001b[39;00m \u001b[38;5;28;01mas\u001b[39;00m \u001b[38;5;21;01mpd\u001b[39;00m\n\u001b[1;32m      3\u001b[0m \u001b[38;5;28;01mimport\u001b[39;00m \u001b[38;5;21;01mnumpy\u001b[39;00m \u001b[38;5;28;01mas\u001b[39;00m \u001b[38;5;21;01mnp\u001b[39;00m\n\u001b[1;32m      4\u001b[0m \u001b[38;5;28;01mimport\u001b[39;00m \u001b[38;5;21;01mmatplotlib\u001b[39;00m\u001b[38;5;21;01m.\u001b[39;00m\u001b[38;5;21;01mpyplot\u001b[39;00m \u001b[38;5;28;01mas\u001b[39;00m \u001b[38;5;21;01mplt\u001b[39;00m\n",
      "\u001b[0;31mModuleNotFoundError\u001b[0m: No module named 'pandas'"
     ]
    }
   ],
   "source": [
    "#locally weighted linear regression\n",
    "import pandas as pd\n",
    "import numpy as np\n",
    "import matplotlib.pyplot as plt\n",
    "%matplotlib inline\n",
    "df = pd.read_csv('/data.csv')\n",
    "features = np.array(df.total_bill)\n",
    "labels = np.array(df.tip)\n",
    "\n",
    "def kernel(data, point, xmat, k):\n",
    "   m,n = np.shape(xmat)\n",
    "   ws = np.mat(np.eye((m)))\n",
    "   for j in range(m):\n",
    "      diff = point - data[j]\n",
    "      ws[j,j] = np.exp(diff*diff.T/(-2.0*k**2))\n",
    "   return ws\n",
    " \n",
    "def local_weight(data, point, xmat, ymat, k):\n",
    "   wei = kernel(data, point, xmat, k)\n",
    "   return (data.T*(wei*data)).I*(data.T*(wei*ymat.T))\n",
    "     \n",
    "def local_weight_regression(xmat, ymat, k):\n",
    "   m,n = np.shape(xmat)\n",
    "   ypred = np.zeros(m)\n",
    "   for i in range(m):\n",
    "      ypred[i] = xmat[i]*local_weight(xmat, xmat[i],xmat,ymat,k)\n",
    "   return ypred\n",
    "\n",
    "m = features.shape[0]\n",
    "mtip = np.mat(labels)\n",
    "data = np.hstack((np.ones((m, 1)), np.mat(features).T))\n",
    "\n",
    "ypred = local_weight_regression(data, mtip, 0.5)\n",
    "indices = data[:,1].argsort(0)\n",
    "xsort = data[indices][:,0]\n",
    "\n",
    "fig = plt.figure()\n",
    "ax = fig.add_subplot(1,1,1)\n",
    "ax.scatter(features, labels, color='blue')\n",
    "ax.plot(xsort[:,1],ypred[indices], color = 'red', linewidth=3)\n",
    "plt.xlabel('Total bill')\n",
    "plt.ylabel('Tip')\n",
    "plt.show()"
   ]
  }
 ],
 "metadata": {
  "kernelspec": {
   "display_name": "Python 3 (ipykernel)",
   "language": "python",
   "name": "python3"
  },
  "language_info": {
   "codemirror_mode": {
    "name": "ipython",
    "version": 3
   },
   "file_extension": ".py",
   "mimetype": "text/x-python",
   "name": "python",
   "nbconvert_exporter": "python",
   "pygments_lexer": "ipython3",
   "version": "3.10.6"
  }
 },
 "nbformat": 4,
 "nbformat_minor": 5
}
