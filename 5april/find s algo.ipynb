{
 "cells": [
  {
   "cell_type": "code",
   "execution_count": null,
   "id": "94b30ef9",
   "metadata": {},
   "outputs": [],
   "source": [
    "\n"
   ]
  },
  {
   "cell_type": "code",
   "execution_count": 144,
   "id": "124976ac",
   "metadata": {},
   "outputs": [
    {
     "name": "stdout",
     "output_type": "stream",
     "text": [
      "data: \n",
      "['sky', 'air temp', 'humidity', 'wind', 'water', 'forecast', 'enjoys']\n",
      "['sunny', 'warm', 'normal', 'strong', 'warm', 'same', 'yes']\n",
      "['sunny', 'warm', 'high', 'strong', 'warm', 'same', 'yes']\n",
      "['rainy', 'cold', 'high', 'strong', 'warm', 'change', 'no']\n",
      "['sunny', 'warm', 'high', 'strong', 'cool', 'change', 'yes']\n",
      "hypothesis:  ['sunny', 'warm', '?', 'strong', '?', '?']\n"
     ]
    }
   ],
   "source": [
    "import csv\n",
    "def updateHypothesis(x,h):\n",
    "    if h==[]:\n",
    "        return x\n",
    "    \n",
    "    for i in range(0,len(h)):\n",
    "        if(x[i].upper() != h[i].upper()):\n",
    "            h[i]='?'  \n",
    "    return h\n",
    "if __name__==\"__main__\":\n",
    "    data=[]\n",
    "    h=[]\n",
    "    with open('./dataset.csv','r') as file:\n",
    "        reader=csv.reader(file)\n",
    "        print('data: ')\n",
    "        for row in reader:\n",
    "            data.append(row)\n",
    "            print(row)\n",
    "    del data[0]\n",
    "    if data:\n",
    "        for x in data:\n",
    "            if x[-1].upper() == \"YES\":\n",
    "                x.pop()\n",
    "                h=updateHypothesis(x,h)\n",
    "        print('hypothesis: ',h)\n",
    "                    \n",
    "    \n",
    "  "
   ]
  }
 ],
 "metadata": {
  "kernelspec": {
   "display_name": "Python 3 (ipykernel)",
   "language": "python",
   "name": "python3"
  },
  "language_info": {
   "codemirror_mode": {
    "name": "ipython",
    "version": 3
   },
   "file_extension": ".py",
   "mimetype": "text/x-python",
   "name": "python",
   "nbconvert_exporter": "python",
   "pygments_lexer": "ipython3",
   "version": "3.11.2"
  }
 },
 "nbformat": 4,
 "nbformat_minor": 5
}
